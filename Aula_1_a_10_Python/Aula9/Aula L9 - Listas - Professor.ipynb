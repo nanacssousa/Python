{
  "nbformat": 4,
  "nbformat_minor": 0,
  "metadata": {
    "colab": {
      "provenance": []
    },
    "kernelspec": {
      "name": "python3",
      "display_name": "Python 3"
    },
    "language_info": {
      "name": "python"
    }
  },
  "cells": [
    {
      "cell_type": "markdown",
      "source": [
        "#**TTI103 - Lógica de Programação**\n",
        "\n",
        "#**Aula L9 - Listas**"
      ],
      "metadata": {
        "id": "oNAE5ZPfjt3g"
      }
    },
    {
      "cell_type": "markdown",
      "source": [
        "#**Introdução**\n",
        "\n",
        "Até o presente momento em nosso curso, trabalhamos com variáveis simples, capazes de armazenar apenas um valor de determnado tipo."
      ],
      "metadata": {
        "id": "kahb9Oa-G6OF"
      }
    },
    {
      "cell_type": "code",
      "source": [
        "teste = True          # Variável tipo booleana\n",
        "print(type(teste))"
      ],
      "metadata": {
        "colab": {
          "base_uri": "https://localhost:8080/"
        },
        "id": "ahmYsSzGoYXT",
        "outputId": "e3f8e12f-0f30-47c0-b948-08c7a5bc5407"
      },
      "execution_count": null,
      "outputs": [
        {
          "output_type": "stream",
          "name": "stdout",
          "text": [
            "<class 'bool'>\n"
          ]
        }
      ]
    },
    {
      "cell_type": "code",
      "source": [
        "itens_vendidos = 45   # Variável tipo inteira\n",
        "print(type(itens_vendidos))"
      ],
      "metadata": {
        "colab": {
          "base_uri": "https://localhost:8080/"
        },
        "id": "YobZcwikollk",
        "outputId": "3ad59450-12fc-439d-c1fd-dcc94ac0a093"
      },
      "execution_count": null,
      "outputs": [
        {
          "output_type": "stream",
          "name": "stdout",
          "text": [
            "<class 'int'>\n"
          ]
        }
      ]
    },
    {
      "cell_type": "code",
      "source": [
        "preco = 345.60        # Variável tipo real\n",
        "print(type(preco))"
      ],
      "metadata": {
        "colab": {
          "base_uri": "https://localhost:8080/"
        },
        "id": "K1D5CZkro6RL",
        "outputId": "630f0b11-9ee3-44b1-e452-6914454bd1e2"
      },
      "execution_count": null,
      "outputs": [
        {
          "output_type": "stream",
          "name": "stdout",
          "text": [
            "<class 'float'>\n"
          ]
        }
      ]
    },
    {
      "cell_type": "markdown",
      "source": [
        "Uma **lista** (`<class 'list'>`) em Python é uma sequência de valores de qualquer tipo ou classe tais como `int`, `float`, `bool`, `str` e até mesmo o próprio `list`, entre outros.\n",
        "\n",
        "A criação de uma lista pode ocorrer de diversas formas. A maneira mais simples é envolver os elementos da lista por colchetes (`[]`).\n",
        "\n",
        "Como exemplo, podemos criar uma lista contendo os anos de obtenção das cinco conquistas do Brasil em Copas do Mundo de Futebol (até o momento) da seguinte maneira:"
      ],
      "metadata": {
        "id": "xAvp_AHNKrMb"
      }
    },
    {
      "cell_type": "code",
      "source": [
        "anos_conquistas = [1958, 1962, 1970, 1994, 2002]\n",
        "print(anos_conquistas)"
      ],
      "metadata": {
        "colab": {
          "base_uri": "https://localhost:8080/"
        },
        "id": "njI5JPw1qFe9",
        "outputId": "723f881c-9d57-430e-9d06-b8965fe90481"
      },
      "execution_count": null,
      "outputs": [
        {
          "output_type": "stream",
          "name": "stdout",
          "text": [
            "[1958, 1962, 1970, 1994, 2002]\n"
          ]
        }
      ]
    },
    {
      "cell_type": "markdown",
      "source": [
        "*IMPORTANTE:* Observe o uso dos colchetes de abertura (`[`) para marcar o início e o de fechamento (`]`) para marcar o final da lista, bem como os elementos separados por vígula.\n",
        "\n",
        "As listas em Python podem conter vários tipos de dados, o que torna possível armazenar coleções heterogêneas de dados."
      ],
      "metadata": {
        "id": "N8LfEuRuqTYT"
      }
    },
    {
      "cell_type": "code",
      "source": [
        "filme = ['De Volta Para o Futuro', 1985,\n",
        "         'Robert Zemeckis', ['ficção científica', 'aventura']]"
      ],
      "metadata": {
        "id": "3a6c9vxfqzHk"
      },
      "execution_count": null,
      "outputs": []
    },
    {
      "cell_type": "markdown",
      "source": [
        "Na lista `filme` acima:\n",
        "* o primeiro elemento representa o nome do filme \"De Volta Para o Futuro\" do tipo `str;\n",
        "* o segundo elemento representa o ano de estreia do filme (1985) do tipo `int`;\n",
        "* o terceiro elemento representa o diretor do filme, Robert Zemeckis, do tipo `str`;\n",
        "* o quarto elemento, `['ficção científica', 'aventura']`, é uma lista de gêneros do filme (do tipo `list`)."
      ],
      "metadata": {
        "id": "Z4yaQTA-rFp8"
      }
    },
    {
      "cell_type": "markdown",
      "source": [
        "#**Índices**\n",
        "\n",
        "As lista são chamadas de estruturas sequenciais indexadas, na medida em que seus elementos podem ser acessados sequencialmente utilizando índices. Por convenção do Python, o primeiro elemento da lista tem índice `0`, o segundo tem índice `1`, e assim por diante.\n",
        "\n",
        "*IMPORTANTE:* Observe que, como consequência da convenção de índices do Python, o último elemento da lista `anos_conquistas`, o ano `2002`, tem índice `4`. No entanto, a lista tem comprimento `5`.\n",
        "\n",
        "O acesso a elementos da lista pode ser feito através da sintaxe: `nome_da_lista[indice]`."
      ],
      "metadata": {
        "id": "OEpCn6S3sLls"
      }
    },
    {
      "cell_type": "code",
      "source": [
        "anos_conquistas[0]"
      ],
      "metadata": {
        "colab": {
          "base_uri": "https://localhost:8080/"
        },
        "id": "4WLDq2FJs4mM",
        "outputId": "349bc75f-6a5e-42e2-a95a-92f85c43af73"
      },
      "execution_count": null,
      "outputs": [
        {
          "output_type": "execute_result",
          "data": {
            "text/plain": [
              "1958"
            ]
          },
          "metadata": {},
          "execution_count": 10
        }
      ]
    },
    {
      "cell_type": "code",
      "source": [
        "anos_conquistas[3]"
      ],
      "metadata": {
        "colab": {
          "base_uri": "https://localhost:8080/"
        },
        "id": "c0sdH3q1tABV",
        "outputId": "165757d6-62f8-4b40-f151-aad26508c431"
      },
      "execution_count": null,
      "outputs": [
        {
          "output_type": "execute_result",
          "data": {
            "text/plain": [
              "1994"
            ]
          },
          "metadata": {},
          "execution_count": 11
        }
      ]
    },
    {
      "cell_type": "code",
      "source": [
        "filme[1]"
      ],
      "metadata": {
        "colab": {
          "base_uri": "https://localhost:8080/"
        },
        "id": "LLhRYy4itDvs",
        "outputId": "d55e1182-cd0e-4e48-fe7d-6608660c54dd"
      },
      "execution_count": null,
      "outputs": [
        {
          "output_type": "execute_result",
          "data": {
            "text/plain": [
              "1985"
            ]
          },
          "metadata": {},
          "execution_count": 12
        }
      ]
    },
    {
      "cell_type": "code",
      "source": [
        "filme[3]"
      ],
      "metadata": {
        "colab": {
          "base_uri": "https://localhost:8080/"
        },
        "id": "JvWBRu4ttHwc",
        "outputId": "410cff3b-a95b-43db-fa11-51ac50897701"
      },
      "execution_count": null,
      "outputs": [
        {
          "output_type": "execute_result",
          "data": {
            "text/plain": [
              "['ficção científica', 'aventura']"
            ]
          },
          "metadata": {},
          "execution_count": 13
        }
      ]
    },
    {
      "cell_type": "markdown",
      "source": [
        "Índices negativos indicam elementos em ordem inversa, sendo o último elemento indicado pelo índice `-1`.\n",
        "\n"
      ],
      "metadata": {
        "id": "hOGQXmvmtOzA"
      }
    },
    {
      "cell_type": "code",
      "source": [
        "anos_conquistas[-1]"
      ],
      "metadata": {
        "colab": {
          "base_uri": "https://localhost:8080/"
        },
        "id": "QLat80KOtVtM",
        "outputId": "a66ca9ee-2763-416e-e4ef-c084516caa43"
      },
      "execution_count": null,
      "outputs": [
        {
          "output_type": "execute_result",
          "data": {
            "text/plain": [
              "2002"
            ]
          },
          "metadata": {},
          "execution_count": 14
        }
      ]
    },
    {
      "cell_type": "code",
      "source": [
        "anos_conquistas[-3]"
      ],
      "metadata": {
        "colab": {
          "base_uri": "https://localhost:8080/"
        },
        "id": "B7_WIZxOtbZs",
        "outputId": "41341144-646a-408a-949a-4d99c57e486b"
      },
      "execution_count": null,
      "outputs": [
        {
          "output_type": "execute_result",
          "data": {
            "text/plain": [
              "1970"
            ]
          },
          "metadata": {},
          "execution_count": 15
        }
      ]
    },
    {
      "cell_type": "code",
      "source": [
        "filme[-2]"
      ],
      "metadata": {
        "colab": {
          "base_uri": "https://localhost:8080/",
          "height": 35
        },
        "id": "3RlLj7mWtgxj",
        "outputId": "caf154c1-d5f7-4047-8ab0-cccb76b85e28"
      },
      "execution_count": null,
      "outputs": [
        {
          "output_type": "execute_result",
          "data": {
            "text/plain": [
              "'Robert Zemeckis'"
            ],
            "application/vnd.google.colaboratory.intrinsic+json": {
              "type": "string"
            }
          },
          "metadata": {},
          "execution_count": 16
        }
      ]
    },
    {
      "cell_type": "code",
      "source": [
        "filme[-4]"
      ],
      "metadata": {
        "colab": {
          "base_uri": "https://localhost:8080/",
          "height": 35
        },
        "id": "D_efbFohtm2E",
        "outputId": "1db9c94b-f594-482c-c601-34de88a3f926"
      },
      "execution_count": null,
      "outputs": [
        {
          "output_type": "execute_result",
          "data": {
            "text/plain": [
              "'De Volta Para o Futuro'"
            ],
            "application/vnd.google.colaboratory.intrinsic+json": {
              "type": "string"
            }
          },
          "metadata": {},
          "execution_count": 19
        }
      ]
    },
    {
      "cell_type": "markdown",
      "source": [
        "Um erro comum é a utilização de índices inválidos. Esta ocorrência gera a mensagem de erro `list index out of range`."
      ],
      "metadata": {
        "id": "8VuDUOJOtyVo"
      }
    },
    {
      "cell_type": "code",
      "source": [
        "anos_conquistas[5]"
      ],
      "metadata": {
        "colab": {
          "base_uri": "https://localhost:8080/",
          "height": 144
        },
        "id": "o9Xi6krbt97C",
        "outputId": "c0bc28c4-990e-4008-afd0-e41162cf9930"
      },
      "execution_count": null,
      "outputs": [
        {
          "output_type": "error",
          "ename": "IndexError",
          "evalue": "list index out of range",
          "traceback": [
            "\u001b[0;31m---------------------------------------------------------------------------\u001b[0m",
            "\u001b[0;31mIndexError\u001b[0m                                Traceback (most recent call last)",
            "\u001b[0;32m<ipython-input-20-b7b917bd58ad>\u001b[0m in \u001b[0;36m<cell line: 1>\u001b[0;34m()\u001b[0m\n\u001b[0;32m----> 1\u001b[0;31m \u001b[0manos_conquistas\u001b[0m\u001b[0;34m[\u001b[0m\u001b[0;36m5\u001b[0m\u001b[0;34m]\u001b[0m\u001b[0;34m\u001b[0m\u001b[0;34m\u001b[0m\u001b[0m\n\u001b[0m",
            "\u001b[0;31mIndexError\u001b[0m: list index out of range"
          ]
        }
      ]
    },
    {
      "cell_type": "code",
      "source": [
        "filme[-5]"
      ],
      "metadata": {
        "colab": {
          "base_uri": "https://localhost:8080/",
          "height": 144
        },
        "id": "mK-CRslouBs7",
        "outputId": "0c09011a-63fc-45a1-d352-a5e2f50f9fe6"
      },
      "execution_count": null,
      "outputs": [
        {
          "output_type": "error",
          "ename": "IndexError",
          "evalue": "list index out of range",
          "traceback": [
            "\u001b[0;31m---------------------------------------------------------------------------\u001b[0m",
            "\u001b[0;31mIndexError\u001b[0m                                Traceback (most recent call last)",
            "\u001b[0;32m<ipython-input-21-65b93da825d6>\u001b[0m in \u001b[0;36m<cell line: 1>\u001b[0;34m()\u001b[0m\n\u001b[0;32m----> 1\u001b[0;31m \u001b[0mfilme\u001b[0m\u001b[0;34m[\u001b[0m\u001b[0;34m-\u001b[0m\u001b[0;36m5\u001b[0m\u001b[0;34m]\u001b[0m\u001b[0;34m\u001b[0m\u001b[0;34m\u001b[0m\u001b[0m\n\u001b[0m",
            "\u001b[0;31mIndexError\u001b[0m: list index out of range"
          ]
        }
      ]
    },
    {
      "cell_type": "markdown",
      "source": [
        "#**Comprimento de uma lista**\n",
        "\n",
        "O número de elementos (comprimento) de uma lista pode ser obtido pela função `len()`, abreviatura do termo em inglês *length*, que significa literalmente comprimento."
      ],
      "metadata": {
        "id": "pvQqgtJtuFos"
      }
    },
    {
      "cell_type": "code",
      "source": [
        "print(f'O Brasil foi campeão mundial de futebol {len(anos_conquistas)} vezes.')\n",
        "print(f'A lista filme possui {len(filme)} elementos.')"
      ],
      "metadata": {
        "colab": {
          "base_uri": "https://localhost:8080/"
        },
        "id": "UGmn28qvue2g",
        "outputId": "7c990028-7d5e-4f77-81be-63332660fe2b"
      },
      "execution_count": null,
      "outputs": [
        {
          "output_type": "stream",
          "name": "stdout",
          "text": [
            "O Brasil foi campeão mundial de futebol 5 vezes.\n",
            "A lista filme possui 4 elementos.\n"
          ]
        }
      ]
    },
    {
      "cell_type": "markdown",
      "source": [
        "#**Modificando elementos de uma lista**\n",
        "\n",
        "Para modificar um elemento de uma lista, basta realizar um comando de atribuição.\n",
        "Por exemplo, se quisermos mudar o nome do filme \"De Volta Para o Futuro\" para a sua versão original em inglês, podemos usar:"
      ],
      "metadata": {
        "id": "TRVgWJ-Hu4jg"
      }
    },
    {
      "cell_type": "code",
      "source": [
        "filme[0] = 'Back to the Future'\n",
        "print(filme)"
      ],
      "metadata": {
        "colab": {
          "base_uri": "https://localhost:8080/"
        },
        "id": "NhDSitj2wKyB",
        "outputId": "3470b1b0-9c8f-44d2-9ff8-96021f62df42"
      },
      "execution_count": null,
      "outputs": [
        {
          "output_type": "stream",
          "name": "stdout",
          "text": [
            "['Back to the Future', 1985, 'Robert Zemeckis', ['ficção científica', 'aventura']]\n"
          ]
        }
      ]
    },
    {
      "cell_type": "markdown",
      "source": [
        "#**Adicionando elementos a uma lista**\n",
        "\n",
        "Para adicionar novos elementos ao final de uma lista existente, usamos o método `append()`. Por exemplo, podemos adicionar a companhia produtora e o elenco de \"De Volta Para o Futuro\" à lista `filme` usando:"
      ],
      "metadata": {
        "id": "bhuqhYoVwYiW"
      }
    },
    {
      "cell_type": "code",
      "source": [
        "filme.append('Amblin Entertainment')\n",
        "elenco = ['Michael J. Fox', 'Christopher Lloyd', 'Lea Thompson',\n",
        "          'Crispin Glover', 'Thomas F. Wilson']\n",
        "filme.append(elenco)\n",
        "print(filme)"
      ],
      "metadata": {
        "colab": {
          "base_uri": "https://localhost:8080/"
        },
        "id": "zZi-SNSNxBuQ",
        "outputId": "73c177c2-e255-479e-94a4-c0a0a65bc67f"
      },
      "execution_count": null,
      "outputs": [
        {
          "output_type": "stream",
          "name": "stdout",
          "text": [
            "['Back to the Future', 1985, 'Robert Zemeckis', ['ficção científica', 'aventura'], 'Amblin Entertainment', ['Michael J. Fox', 'Christopher Lloyd', 'Lea Thompson', 'Crispin Glover', 'Thomas F. Wilson']]\n"
          ]
        }
      ]
    },
    {
      "cell_type": "markdown",
      "source": [
        "#**Referências *versus* clones**\n",
        "\n",
        "A atribuição de uma lista armazenada em uma variável `A` a uma segunda variável `B` não cria uma nova lista!\n",
        "\n",
        "Na verdade, as duas variáveis referenciam a mesma lista na memória. Isto significa que alterações na lista `A` afetam diretamente `B` e *vice-versa*."
      ],
      "metadata": {
        "id": "p3KbHts2xwn1"
      }
    },
    {
      "cell_type": "code",
      "source": [
        " A = ['Bento Gonçalves', 'Canela', 'Gramado', 'Campos do Jordão']\n",
        " print(A)"
      ],
      "metadata": {
        "colab": {
          "base_uri": "https://localhost:8080/"
        },
        "id": "jyQETxG4yRee",
        "outputId": "8a391023-75f8-4484-df94-a9432d375e1d"
      },
      "execution_count": null,
      "outputs": [
        {
          "output_type": "stream",
          "name": "stdout",
          "text": [
            "['Bento Gonçalves', 'Canela', 'Gramado', 'Campos do Jordão']\n"
          ]
        }
      ]
    },
    {
      "cell_type": "code",
      "source": [
        "B = A\n",
        "B.append('Ouro Preto')\n",
        "print(f'Lista B = {B}')\n",
        "print(f'Lista A = {A}')"
      ],
      "metadata": {
        "colab": {
          "base_uri": "https://localhost:8080/"
        },
        "id": "K39da0cDykDa",
        "outputId": "438827e8-49b8-4776-b237-43ad94c89c48"
      },
      "execution_count": null,
      "outputs": [
        {
          "output_type": "stream",
          "name": "stdout",
          "text": [
            "Lista B = ['Bento Gonçalves', 'Canela', 'Gramado', 'Campos do Jordão', 'Ouro Preto']\n",
            "Lista A = ['Bento Gonçalves', 'Canela', 'Gramado', 'Campos do Jordão', 'Ouro Preto']\n"
          ]
        }
      ]
    },
    {
      "cell_type": "code",
      "source": [
        "print(f'\"Endereço\" da lista A na memória = {id(A)}')\n",
        "print(f'\"Endereço\" da lista B na memória = {id(B)}')"
      ],
      "metadata": {
        "colab": {
          "base_uri": "https://localhost:8080/"
        },
        "id": "YP1WuCw8y5Hr",
        "outputId": "f0349709-40df-4c17-cb90-849a00ee7dc0"
      },
      "execution_count": null,
      "outputs": [
        {
          "output_type": "stream",
          "name": "stdout",
          "text": [
            "\"Endereço\" da lista A na memória = 136692418223360\n",
            "\"Endereço\" da lista B na memória = 136692418223360\n"
          ]
        }
      ]
    },
    {
      "cell_type": "markdown",
      "source": [
        "Cada objeto em Python, incluindo listas, possui um identificador exclusivo (número inteiro único) que pode ser acessado usando a função `id()`. No exemplo acima, as listas `A` e `B` possuem o mesmo identificador, confirmando que elas correspondem à mesma lista na memória."
      ],
      "metadata": {
        "id": "vTdOhM88yQ-p"
      }
    },
    {
      "cell_type": "code",
      "source": [
        "id(A) == id(B)"
      ],
      "metadata": {
        "colab": {
          "base_uri": "https://localhost:8080/"
        },
        "id": "ddFpqiAkzrEQ",
        "outputId": "8febb1ff-0ac7-47b9-c7c6-b85939a1ce1b"
      },
      "execution_count": null,
      "outputs": [
        {
          "output_type": "execute_result",
          "data": {
            "text/plain": [
              "True"
            ]
          },
          "metadata": {},
          "execution_count": 29
        }
      ]
    },
    {
      "cell_type": "code",
      "source": [
        "A is B"
      ],
      "metadata": {
        "colab": {
          "base_uri": "https://localhost:8080/"
        },
        "id": "k26GaA1HzvyH",
        "outputId": "8a532800-f9a4-4d95-c72b-ac75996f8349"
      },
      "execution_count": null,
      "outputs": [
        {
          "output_type": "execute_result",
          "data": {
            "text/plain": [
              "True"
            ]
          },
          "metadata": {},
          "execution_count": 30
        }
      ]
    },
    {
      "cell_type": "markdown",
      "source": [
        "Em algumas situações, no entanto, precisamos de fato criar uma réplica / clone na memória de uma lista pré-existente.\n",
        "\n",
        "Para isso podemos usar o comando `B = list(A)`. Note que nesse caso alterações posteriores em uma das listas não afetam a sua cópia."
      ],
      "metadata": {
        "id": "SHhbsYIJz5pU"
      }
    },
    {
      "cell_type": "code",
      "source": [
        "A = ['Bento Gonçalves', 'Canela', 'Gramado', 'Campos do Jordão']\n",
        "B = list(A)\n",
        "B.append('Ouro Preto')"
      ],
      "metadata": {
        "id": "KEPSrAn90Eyo"
      },
      "execution_count": null,
      "outputs": []
    },
    {
      "cell_type": "code",
      "source": [
        "print(f'Lista B = {B}')\n",
        "print(f'Lista A = {A}')"
      ],
      "metadata": {
        "colab": {
          "base_uri": "https://localhost:8080/"
        },
        "id": "5ewvzGjp0TL5",
        "outputId": "4afacd4e-b2b2-48f7-c212-7c35734c4695"
      },
      "execution_count": null,
      "outputs": [
        {
          "output_type": "stream",
          "name": "stdout",
          "text": [
            "Lista B = ['Bento Gonçalves', 'Canela', 'Gramado', 'Campos do Jordão', 'Ouro Preto']\n",
            "Lista A = ['Bento Gonçalves', 'Canela', 'Gramado', 'Campos do Jordão']\n"
          ]
        }
      ]
    },
    {
      "cell_type": "code",
      "source": [
        "print(f'\"Endereço\" da lista A na memória = {id(A)}')\n",
        "print(f'\"Endereço\" da lista B na memória = {id(B)}')"
      ],
      "metadata": {
        "colab": {
          "base_uri": "https://localhost:8080/"
        },
        "id": "11JD2-_n0aBP",
        "outputId": "2e4c0d1d-de49-488d-98ee-bdbf62a72c7c"
      },
      "execution_count": null,
      "outputs": [
        {
          "output_type": "stream",
          "name": "stdout",
          "text": [
            "\"Endereço\" da lista A na memória = 136692418125888\n",
            "\"Endereço\" da lista B na memória = 136692857413056\n"
          ]
        }
      ]
    },
    {
      "cell_type": "code",
      "source": [
        "id(A) == id(B)"
      ],
      "metadata": {
        "colab": {
          "base_uri": "https://localhost:8080/"
        },
        "id": "X9DPcZjM0fYR",
        "outputId": "827513a8-674f-4d0a-9f89-558f5145770e"
      },
      "execution_count": null,
      "outputs": [
        {
          "output_type": "execute_result",
          "data": {
            "text/plain": [
              "False"
            ]
          },
          "metadata": {},
          "execution_count": 34
        }
      ]
    },
    {
      "cell_type": "code",
      "source": [
        "A is B"
      ],
      "metadata": {
        "colab": {
          "base_uri": "https://localhost:8080/"
        },
        "id": "fHeUaCu30ju3",
        "outputId": "0a16a0e8-cc26-450c-93ea-d16eb0df6047"
      },
      "execution_count": null,
      "outputs": [
        {
          "output_type": "execute_result",
          "data": {
            "text/plain": [
              "False"
            ]
          },
          "metadata": {},
          "execution_count": 35
        }
      ]
    },
    {
      "cell_type": "markdown",
      "source": [
        "#**Concatenação de listas usando +**\n",
        "\n",
        "No Python, é possível gerar uma nova lista a partir da concatenação de duas listas existentes usando o operador de adição `+`.\n",
        "\n",
        "*IMPORTANTE:* As listas originais são preservadas e uma nova lista é criada com um total de elementos igual a soma dos comprimentos das duas primeiras."
      ],
      "metadata": {
        "id": "slC8g5UV0lQH"
      }
    },
    {
      "cell_type": "code",
      "source": [
        "A = ['Bento Gonçalves', 'Canela', 'Gramado', 'Campos do Jordão']\n",
        "B = ['Ouro Preto', 'Fortaleza', 'Maceió', 'Rio de Janeiro']\n",
        "C = A + B\n",
        "print(f'Lista A = {A}')\n",
        "print(f'Lista B = {B}')\n",
        "print(f'Lista C = {C}')"
      ],
      "metadata": {
        "colab": {
          "base_uri": "https://localhost:8080/"
        },
        "id": "jw6G2T6b08XA",
        "outputId": "d998382c-6b5d-4937-97b9-bda31e5fe52c"
      },
      "execution_count": null,
      "outputs": [
        {
          "output_type": "stream",
          "name": "stdout",
          "text": [
            "Lista A = ['Bento Gonçalves', 'Canela', 'Gramado', 'Campos do Jordão']\n",
            "Lista B = ['Ouro Preto', 'Fortaleza', 'Maceió', 'Rio de Janeiro']\n",
            "Lista C = ['Bento Gonçalves', 'Canela', 'Gramado', 'Campos do Jordão', 'Ouro Preto', 'Fortaleza', 'Maceió', 'Rio de Janeiro']\n"
          ]
        }
      ]
    },
    {
      "cell_type": "code",
      "source": [
        "len(C) == len(A) + len(B)"
      ],
      "metadata": {
        "colab": {
          "base_uri": "https://localhost:8080/"
        },
        "id": "85kBifQF2Hnp",
        "outputId": "c6a58da5-e8aa-4598-bb22-dc30b6d38dd9"
      },
      "execution_count": null,
      "outputs": [
        {
          "output_type": "execute_result",
          "data": {
            "text/plain": [
              "True"
            ]
          },
          "metadata": {},
          "execution_count": 38
        }
      ]
    },
    {
      "cell_type": "markdown",
      "source": [
        "*CUIDADO:* Note que a concatenação não possui propriedade comutativa, pois a ordem dos elementos na lista de saída depende da ordem dos operandos."
      ],
      "metadata": {
        "id": "K4VY8fqZ2L6_"
      }
    },
    {
      "cell_type": "code",
      "source": [
        "sabores = ['baunilha', 'chocolate', 'morango'] + ['napolitano', 'flocos']\n",
        "print(sabores)"
      ],
      "metadata": {
        "colab": {
          "base_uri": "https://localhost:8080/"
        },
        "id": "G7RMkhr33Xl4",
        "outputId": "5574c66b-91a0-4374-8ec0-74c13feb8c9a"
      },
      "execution_count": null,
      "outputs": [
        {
          "output_type": "stream",
          "name": "stdout",
          "text": [
            "['baunilha', 'chocolate', 'morango', 'napolitano', 'flocos']\n"
          ]
        }
      ]
    },
    {
      "cell_type": "code",
      "source": [
        "sabores = ['napolitano', 'flocos'] + ['baunilha', 'chocolate', 'morango']\n",
        "print(sabores)"
      ],
      "metadata": {
        "colab": {
          "base_uri": "https://localhost:8080/"
        },
        "id": "V5JfsZR13gdG",
        "outputId": "c74a2e43-5df2-4e66-da33-dcd331b58d67"
      },
      "execution_count": null,
      "outputs": [
        {
          "output_type": "stream",
          "name": "stdout",
          "text": [
            "['napolitano', 'flocos', 'baunilha', 'chocolate', 'morango']\n"
          ]
        }
      ]
    },
    {
      "cell_type": "markdown",
      "source": [
        "Se as duas listas `A` e `B` possuem elementos em comum, após a concatenação estes serão repetidos na lista produzida."
      ],
      "metadata": {
        "id": "2CvAEqag2Qjw"
      }
    },
    {
      "cell_type": "code",
      "source": [
        "# Cinco primeiros números ímpares\n",
        "impares = [1, 3, 5, 7, 9]\n",
        "# Cinco primeiros números primos\n",
        "primos = [2, 3, 5, 7, 11]\n",
        "uniao = impares + primos\n",
        "print(uniao)"
      ],
      "metadata": {
        "colab": {
          "base_uri": "https://localhost:8080/"
        },
        "id": "-ZQsX74B35HC",
        "outputId": "765551e0-3fa3-4d5e-eddb-3008e4927f4c"
      },
      "execution_count": null,
      "outputs": [
        {
          "output_type": "stream",
          "name": "stdout",
          "text": [
            "[1, 3, 5, 7, 9, 2, 3, 5, 7, 11]\n"
          ]
        }
      ]
    },
    {
      "cell_type": "markdown",
      "source": [
        "#**Método `append` *versus* concatenação de listas**\n",
        "\n",
        "Os três trechos de código a seguir produzem o mesmo efeito:"
      ],
      "metadata": {
        "id": "C1fX-ICe4L5d"
      }
    },
    {
      "cell_type": "code",
      "source": [
        "sabores = ['baunilha', 'chocolate', 'morango']\n",
        "sabores = sabores + ['flocos']\n",
        "print(sabores)"
      ],
      "metadata": {
        "colab": {
          "base_uri": "https://localhost:8080/"
        },
        "id": "GWCzF48-4Ymf",
        "outputId": "ba339e99-c6d6-4bb2-acc3-d9891d6094ce"
      },
      "execution_count": null,
      "outputs": [
        {
          "output_type": "stream",
          "name": "stdout",
          "text": [
            "['baunilha', 'chocolate', 'morango', 'flocos']\n"
          ]
        }
      ]
    },
    {
      "cell_type": "code",
      "source": [
        "sabores = ['baunilha', 'chocolate', 'morango']\n",
        "sabores += ['flocos']\n",
        "print(sabores)"
      ],
      "metadata": {
        "colab": {
          "base_uri": "https://localhost:8080/"
        },
        "id": "_HZMPoS_4iYq",
        "outputId": "fcef0946-1af1-48fc-8ec4-575e0fcdac55"
      },
      "execution_count": null,
      "outputs": [
        {
          "output_type": "stream",
          "name": "stdout",
          "text": [
            "['baunilha', 'chocolate', 'morango', 'flocos']\n"
          ]
        }
      ]
    },
    {
      "cell_type": "code",
      "source": [
        "sabores = ['baunilha', 'chocolate', 'morango']\n",
        "sabores.append('flocos')\n",
        "print(sabores)"
      ],
      "metadata": {
        "colab": {
          "base_uri": "https://localhost:8080/"
        },
        "id": "scKbX15M4s3p",
        "outputId": "2fe9f313-8d33-4b35-ca5e-7dcc35fe31fd"
      },
      "execution_count": null,
      "outputs": [
        {
          "output_type": "stream",
          "name": "stdout",
          "text": [
            "['baunilha', 'chocolate', 'morango', 'flocos']\n"
          ]
        }
      ]
    },
    {
      "cell_type": "markdown",
      "source": [
        "*NOTA:* Apesar dos códigos anteriores produzirem o mesmo resultado, é preferível utilizar o método `append()`. De fato, a concatenação gera uma cópia da lista toda e a variável `sabores` passa a referenciar essa nova lista criada. Em outras palavras, a concatenação é uma operação mais custosa."
      ],
      "metadata": {
        "id": "r8vK7prX45zm"
      }
    },
    {
      "cell_type": "markdown",
      "source": [
        "#**Repetição de listas usando `*`**\n",
        "\n",
        "Em Python podemos multiplicar uma lista por um número inteiro. O efeito é a criação de uma nova lista contendo a repetição dos elementos da lista original."
      ],
      "metadata": {
        "id": "kklXNina5pYT"
      }
    },
    {
      "cell_type": "code",
      "source": [
        "time = ['São Paulo']\n",
        "print(f'{3*time} === Tri-campeão Mundial ===')"
      ],
      "metadata": {
        "colab": {
          "base_uri": "https://localhost:8080/"
        },
        "id": "0Gg5VrXJ5oSa",
        "outputId": "f4e765bb-a0ee-4131-db82-bf0fe40053ba"
      },
      "execution_count": null,
      "outputs": [
        {
          "output_type": "stream",
          "name": "stdout",
          "text": [
            "['São Paulo', 'São Paulo', 'São Paulo'] === Tri-campeão Mundial ===\n"
          ]
        }
      ]
    },
    {
      "cell_type": "markdown",
      "source": [
        "#**Fatias de listas**\n",
        "\n",
        "Podemos criar uma sublista formada por uma cópia de um trecho de elementos consecutivos de uma lista original através do recurso de fatiamento de listas. Para isso, usamos a seguinte sintaxe: `nome_da_lista[inicio:fim]`.\n",
        "\n",
        "Caso omitido, o parâmetro `inicio` é assumido como sendo `0`; quando `fim` é omitido, é assumido como sendo `len(lista)`.\n",
        "\n",
        "Alem disso, `inicio` indica o índice do primeiro elemento que será incluído no trecho copiado, mas o último elemento incluído no trecho é aquele dado pelo índice `fim-1`. Ou seja, o elemento cujo índice é `fim` nunca é incluído no trecho copiado."
      ],
      "metadata": {
        "id": "dCGQ_L5B6jl7"
      }
    },
    {
      "cell_type": "code",
      "source": [
        "cidades = ['Bento Gonçalves', 'Campos do Jordão', 'Gramado',\n",
        "           'Ouro Preto', 'Fortaleza', 'Maceió', 'Rio de Janeiro']"
      ],
      "metadata": {
        "id": "bxjq2ddh45Iy"
      },
      "execution_count": null,
      "outputs": []
    },
    {
      "cell_type": "code",
      "source": [
        "cidades[2:6]"
      ],
      "metadata": {
        "colab": {
          "base_uri": "https://localhost:8080/"
        },
        "id": "4gQqNeVF8v-7",
        "outputId": "588257a9-2eda-4524-dcc9-8d90d22b201b"
      },
      "execution_count": null,
      "outputs": [
        {
          "output_type": "execute_result",
          "data": {
            "text/plain": [
              "['Gramado', 'Ouro Preto', 'Fortaleza', 'Maceió']"
            ]
          },
          "metadata": {},
          "execution_count": 47
        }
      ]
    },
    {
      "cell_type": "code",
      "source": [
        "cidades[1:3]"
      ],
      "metadata": {
        "colab": {
          "base_uri": "https://localhost:8080/"
        },
        "id": "6Gi-c5QM9NR_",
        "outputId": "90e2cfca-f692-4592-a108-f6e23af24c4c"
      },
      "execution_count": null,
      "outputs": [
        {
          "output_type": "execute_result",
          "data": {
            "text/plain": [
              "['Campos do Jordão', 'Gramado']"
            ]
          },
          "metadata": {},
          "execution_count": 48
        }
      ]
    },
    {
      "cell_type": "code",
      "source": [
        "cidades[:4]"
      ],
      "metadata": {
        "colab": {
          "base_uri": "https://localhost:8080/"
        },
        "id": "QyU9OxO89SVL",
        "outputId": "d3dbd42a-a7e6-4735-8b9d-6f6a28743bc8"
      },
      "execution_count": null,
      "outputs": [
        {
          "output_type": "execute_result",
          "data": {
            "text/plain": [
              "['Bento Gonçalves', 'Campos do Jordão', 'Gramado', 'Ouro Preto']"
            ]
          },
          "metadata": {},
          "execution_count": 49
        }
      ]
    },
    {
      "cell_type": "code",
      "source": [
        "cidades[3:]"
      ],
      "metadata": {
        "colab": {
          "base_uri": "https://localhost:8080/"
        },
        "id": "xHH6wKGG9UoZ",
        "outputId": "67794311-2132-4c42-b54b-1558b731f910"
      },
      "execution_count": null,
      "outputs": [
        {
          "output_type": "execute_result",
          "data": {
            "text/plain": [
              "['Ouro Preto', 'Fortaleza', 'Maceió', 'Rio de Janeiro']"
            ]
          },
          "metadata": {},
          "execution_count": 50
        }
      ]
    },
    {
      "cell_type": "markdown",
      "source": [
        "Em especial, o comando `lista[:]` (ou `lista[0:len(lista)]`) gera uma cópia da lista toda, podendo ser usado em operações de clonagem de uma lista, substituindo o comando `list(lista)`."
      ],
      "metadata": {
        "id": "Mt3k0uFV9bUG"
      }
    },
    {
      "cell_type": "code",
      "source": [
        "cidades = ['Bento Gonçalves', 'Campos do Jordão', 'Gramado']\n",
        "B = cidades[:]\n",
        "id(cidades) == id(B)"
      ],
      "metadata": {
        "colab": {
          "base_uri": "https://localhost:8080/"
        },
        "id": "tONJi6Y79nZq",
        "outputId": "6e211917-37dc-4ec2-a433-025536fd97da"
      },
      "execution_count": null,
      "outputs": [
        {
          "output_type": "execute_result",
          "data": {
            "text/plain": [
              "False"
            ]
          },
          "metadata": {},
          "execution_count": 51
        }
      ]
    },
    {
      "cell_type": "code",
      "source": [
        "B.append('Ouro Preto')\n",
        "print(f'Lista B = {B}')\n",
        "print(f'Lista cidades = {cidades}')"
      ],
      "metadata": {
        "colab": {
          "base_uri": "https://localhost:8080/"
        },
        "id": "QEq4VBgC9zey",
        "outputId": "35d7d520-eba4-4426-b44b-21633a925b0a"
      },
      "execution_count": null,
      "outputs": [
        {
          "output_type": "stream",
          "name": "stdout",
          "text": [
            "Lista B = ['Bento Gonçalves', 'Campos do Jordão', 'Gramado', 'Ouro Preto']\n",
            "Lista cidades = ['Bento Gonçalves', 'Campos do Jordão', 'Gramado']\n"
          ]
        }
      ]
    },
    {
      "cell_type": "markdown",
      "source": [
        "#**Remoção em listas**\n",
        "\n",
        "As remoções de elementos em listas podem ser feitas usando o comando `del` ou o método `pop`.\n",
        "A sintaxe do comadno `del` é `del lista[indice]`."
      ],
      "metadata": {
        "id": "q2jBEk8t-F2T"
      }
    },
    {
      "cell_type": "code",
      "source": [
        "cidades = ['Bento Gonçalves', 'Campos do Jordão', 'Gramado', 'Ouro Preto']\n",
        "del cidades[1]\n",
        "print(cidades)"
      ],
      "metadata": {
        "colab": {
          "base_uri": "https://localhost:8080/"
        },
        "id": "nrnGqhQw-XjV",
        "outputId": "77def3df-c27d-46dd-dea0-510738973606"
      },
      "execution_count": null,
      "outputs": [
        {
          "output_type": "stream",
          "name": "stdout",
          "text": [
            "['Bento Gonçalves', 'Gramado', 'Ouro Preto']\n"
          ]
        }
      ]
    },
    {
      "cell_type": "markdown",
      "source": [
        "A sintaxe do método `pop` é `lista.pop(indice)`.\n",
        "A diferença com relação a `del` é que `pop` devolve o valor removido da lista, que pode, por exemplo, ser atribuído a uma variável. Caso `indice` seja omitido, o último elemento é removido."
      ],
      "metadata": {
        "id": "5sUfH1Yg-nte"
      }
    },
    {
      "cell_type": "code",
      "source": [
        "cidades = ['Bento Gonçalves', 'Campos do Jordão', 'Gramado', 'Ouro Preto']\n",
        "c = cidades.pop(1)\n",
        "print(cidades)\n",
        "print(c)"
      ],
      "metadata": {
        "colab": {
          "base_uri": "https://localhost:8080/"
        },
        "id": "LbKDeuv9-60K",
        "outputId": "d2823279-8f54-40b9-94c8-494499f41eab"
      },
      "execution_count": null,
      "outputs": [
        {
          "output_type": "stream",
          "name": "stdout",
          "text": [
            "['Bento Gonçalves', 'Gramado', 'Ouro Preto']\n",
            "Campos do Jordão\n"
          ]
        }
      ]
    },
    {
      "cell_type": "code",
      "source": [
        "c = cidades.pop()\n",
        "print(cidades)\n",
        "print(c)"
      ],
      "metadata": {
        "colab": {
          "base_uri": "https://localhost:8080/"
        },
        "id": "R-1GxNBo_NGT",
        "outputId": "54f463ed-deab-4888-c81d-326d722b554a"
      },
      "execution_count": null,
      "outputs": [
        {
          "output_type": "stream",
          "name": "stdout",
          "text": [
            "['Bento Gonçalves', 'Gramado']\n",
            "Ouro Preto\n"
          ]
        }
      ]
    }
  ]
}