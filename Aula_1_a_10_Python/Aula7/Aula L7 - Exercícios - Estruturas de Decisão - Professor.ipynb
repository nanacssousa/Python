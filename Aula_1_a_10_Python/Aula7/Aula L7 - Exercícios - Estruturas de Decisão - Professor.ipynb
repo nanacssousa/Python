{
  "nbformat": 4,
  "nbformat_minor": 0,
  "metadata": {
    "colab": {
      "provenance": []
    },
    "kernelspec": {
      "name": "python3",
      "display_name": "Python 3"
    },
    "language_info": {
      "name": "python"
    }
  },
  "cells": [
    {
      "cell_type": "markdown",
      "source": [
        "#**TTI103 - Lógica de Programação**\n",
        "\n",
        "#**Aula L7 - Estruturas de Decisão**"
      ],
      "metadata": {
        "id": "oNAE5ZPfjt3g"
      }
    },
    {
      "cell_type": "markdown",
      "source": [
        "#**Exercício 01**\n",
        "\n",
        "Escreva um programa Python que recebe um ano de nosso calendário gregoriano $[1]$ no formato $YYYY$ e decida se o ano é bissexto ou não.\n",
        "\n",
        "*ALGORITMO:* Para determinar se um ano é bissexto, execute estas etapas:\n",
        "\n",
        "(1) Se o ano for uniformemente divisível por 4, vá para a etapa 2. Caso contrário, vá para a etapa 5.\n",
        "\n",
        "(2) Se o ano for uniformemente divisível por 100, vá para a etapa 3. Caso contrário, vá para a etapa 4.\n",
        "\n",
        "(3) Se o ano for uniformemente divisível por 400, vá para a etapa 4. Caso contrário, vá para a etapa 5.\n",
        "\n",
        "(4) O ano é bissexto (tem 366 dias).\n",
        "\n",
        "(5) O ano não é um ano bissexto (tem 365 dias).\n",
        "\n",
        "$[1]$ Calendário criado em 1582 pelo Papa Gregório XIII (1502 – 1585) — daí o nome “gregoriano”."
      ],
      "metadata": {
        "id": "yHnnxSvFrggG"
      }
    },
    {
      "cell_type": "code",
      "source": [
        "# Exercício 01\n",
        "# Entrada de dados\n",
        "ano = int(input('Digite um ano no formato YYYY: '))\n",
        "\n",
        "# Checagem de ano bissexto\n",
        "if ano % 4 == 0:\n",
        "  if ano % 100 == 0:\n",
        "    if ano % 400 == 0:\n",
        "      bissexto = True\n",
        "    else:\n",
        "      bissexto = False\n",
        "  else:\n",
        "    bissexto = True\n",
        "else:\n",
        "  bissexto = False\n",
        "\n",
        "# Saída\n",
        "if bissexto:\n",
        "  print(f'{ano} é um ano bissexto.')\n",
        "else:\n",
        "  print(f'{ano} não é um ano bissexto.')"
      ],
      "metadata": {
        "id": "B2F61JDO50FU"
      },
      "execution_count": null,
      "outputs": []
    },
    {
      "cell_type": "markdown",
      "source": [
        "#**Exercício 02**\n",
        "\n",
        "Escreva um programa Python que determine o estágio de vida de uma pessoa, a partir de sua idade:\n",
        "\n",
        "* Se a pessoa tiver menos de 2 anos, imprima uma mensagem informando que a pessoa é um bebê.\n",
        "* Se a pessoa tiver pelo menos 2 anos, mas menos de 4, imprima uma mensagem informando que a\n",
        "pessoa é uma criança de colo.\n",
        "* Se a pessoa tiver pelo menos 4 anos, mas menos de 13, imprima uma mensagem informando que\n",
        "a pessoa é uma criança.\n",
        "* Se a pessoa tiver pelo menos 13 anos, mas menos de 20, imprima uma mensagem dizendo que\n",
        "a pessoa é um adolescente.\n",
        "* Se a pessoa tiver pelo menos 20 anos, mas menos de 65, imprima uma mensagem que\n",
        "dizendo que a pessoa é adulta.\n",
        "* Se a pessoa tiver 65 anos ou mais, imprima uma mensagem informando que a pessoa é idosa."
      ],
      "metadata": {
        "id": "SXv1755C53CU"
      }
    },
    {
      "cell_type": "code",
      "source": [
        "# Exercício 02\n",
        "# Entrada de dados\n",
        "idade = int(input('Digite a idade: '))\n",
        "\n",
        "# Checagem do estágio de vida\n",
        "if idade < 2:\n",
        "  estagio = 'um bebê'\n",
        "elif idade < 4:\n",
        "  estagio = 'uma criança de colo'\n",
        "elif idade < 13:\n",
        "  estagio = 'uma criança'\n",
        "elif idade < 20:\n",
        "  estagio = 'um adolescente'\n",
        "elif idade < 65:\n",
        "  estagio = 'um adulto'\n",
        "else:\n",
        "  estagio = 'um idoso'\n",
        "\n",
        "# Saída de dados\n",
        "print(f'Um indivíduo com {idade} anos é {estagio}.')"
      ],
      "metadata": {
        "id": "KSFlFxMY9NhO"
      },
      "execution_count": null,
      "outputs": []
    },
    {
      "cell_type": "markdown",
      "source": [
        "#**Exercício 03**\n",
        "\n",
        "Escreva um programa Python que recebe um único carácter como entrada e decide se esse carácter é uma letra maiúscula, uma letra minúscula, um algarismo decimal ou um carácter especial.\n",
        "\n",
        "Na codificação ASCII:\n",
        "* As letras maiúsculas de 'A' a 'Z' são codificadas pelos decimais 65 a 90;\n",
        "* As letras minúsculas de 'a' a 'z' são codificadas pelos decimais 97 a 122;\n",
        "* Os algarismos decimais são codificados pelos decimais 48 a 57;\n",
        "* Os decimais de 0 a 255, com exceção daqueles mencionados acima, codificam caracteres especiais.\n",
        "\n",
        "*IMPORTANTE:* Para checar a codificação ASCII da variável `caracter`que contém um único carácter, use o comando ` ord`. Veja um exemplo:\n",
        "\n",
        "`caracter = A`\n",
        "\n",
        "`decimal = ord(caracter)`\n",
        "\n",
        "`print(decimal)`\n",
        "\n",
        "`65`"
      ],
      "metadata": {
        "id": "aBnaN_mb9Pst"
      }
    },
    {
      "cell_type": "code",
      "source": [
        "# Exercício 03\n",
        "# Entrada de dados\n",
        "decimal = ord(input('Digite um único carácter: '))\n",
        "\n",
        "# Checagem da classificação do carácter\n",
        "if 65 <= decimal <= 90:\n",
        "  tipo = 'uma letra maiúscula'\n",
        "elif 97 <= decimal <= 122:\n",
        "  tipo = 'uma letra minúscula'\n",
        "elif 48 <= decimal <= 57:\n",
        "  tipo = 'um algarismo decimal'\n",
        "else:\n",
        "  tipo = 'uma carácter especial'\n",
        "\n",
        "# Saída de dados\n",
        "# O comando chr() transforma o decimal para um carácter ASCII\n",
        "print(f'{chr(decimal)} é {tipo}.')"
      ],
      "metadata": {
        "id": "FtvHlRliAzi2"
      },
      "execution_count": null,
      "outputs": []
    },
    {
      "cell_type": "markdown",
      "source": [
        "#**Exercício 04**\n",
        "\n",
        "Um vendedor fornece três tipos de brinquedos:\n",
        "\n",
        "(1) brinquedos que usam baterias;\n",
        "\n",
        "(2) brinquedos que usam pilhas;\n",
        "\n",
        "(3) brinquedos com baterias recarregáveis.\n",
        "\n",
        "O vendedor dá um desconto de 10% em pedidos de brinquedos à bateria, se o pedido for superior a $R\\$\\,1000,00$.\n",
        "\n",
        "Em pedidos superiores a $R\\$\\,100,00$ para brinquedos à pilha, é concedido um desconto de 5%.\n",
        "\n",
        "Um desconto de 10% é concedido em pedidos de brinquedos com baterias recarregáveis, caso o valor seja superior a $R\\$\\,500,00$.\n",
        "\n",
        "Suponha que os códigos numéricos 1, 2 e 3 sejam usados para designar brinquedos à bateria, à pilha e à baterias recarregáveis, respectivamente. Escreva um programa Python que leia o código do produto e o valor do pedido. A seguir, calcule e imprima o valor líquido que o cliente deverá pagar após o desconto, se houver."
      ],
      "metadata": {
        "id": "_ZgQVyrNA2AG"
      }
    },
    {
      "cell_type": "code",
      "source": [
        "# Exercício 04\n",
        "# Entrada de dados\n",
        "print('''Use o código:\n",
        "(1) para brinquedos que usam baterias;\n",
        "(2) para brinquedos que usam pilhas;\n",
        "(3) para brinquedos com baterias recarregáveis.''')\n",
        "cod = input('Digite o código desejado: ')\n",
        "pedido = float(input('Digite o valor do seu pedido: '))\n",
        "\n",
        "# Checando o tipo de brinquedo\n",
        "desconto = 0\n",
        "if cod == '1':\n",
        "  if pedido > 1000:\n",
        "    desconto = 10/100\n",
        "elif cod == '2':\n",
        "  if pedido > 100:\n",
        "    desconto = 5/100\n",
        "elif cod == '3':\n",
        "  if pedido > 500:\n",
        "    desconto = 10/100\n",
        "\n",
        "# Saída de dados\n",
        "print('\\n*** PAGAMENTO ***')\n",
        "if desconto != 0:\n",
        "  print(f'O pedido obteve {desconto*100}% de desconto.')\n",
        "else:\n",
        "  print('O pedido efetuado não obteve desconto.')\n",
        "pagamento = pedido*(1 - desconto)\n",
        "print(f'O valor a ser pago é de {pagamento:.2f}')"
      ],
      "metadata": {
        "id": "ToW3uB9rDaev"
      },
      "execution_count": null,
      "outputs": []
    },
    {
      "cell_type": "code",
      "source": [
        "# Exercício 04\n",
        "# Entrada de dados\n",
        "print('''Use o código:\n",
        "(1) para brinquedos que usam baterias;\n",
        "(2) para brinquedos que usam pilhas;\n",
        "(3) para brinquedos com baterias recarregáveis.''')\n",
        "cod = int(input('Digite o código desejado: '))\n",
        "pedido = float(input('Digite o valor do seu pedido: '))\n",
        "\n",
        "# Checagem do tipo de brinquedo\n",
        "# Uso da estrutura match-case em substituição da estrutura if-elif-else\n",
        "# Isso é possível pois as categorias não são intervalares\n",
        "desconto = 0\n",
        "match cod:\n",
        "  case 1:\n",
        "    if pedido > 1000:\n",
        "      desconto = 0.1\n",
        "  case 2:\n",
        "    if pedido > 100:\n",
        "      desconto = 0.05\n",
        "  case 3:\n",
        "    if pedido > 500:\n",
        "      desconto = 0.1\n",
        "\n",
        "# Saída de dados\n",
        "print('\\n*** PAGAMENTO ***')\n",
        "if desconto != 0:\n",
        "  print(f'O pedido obteve {desconto*100}% de desconto')\n",
        "else:\n",
        "  print('O pedido efetuado não obteve desconto.')\n",
        "pagamento = pedido*(1 - desconto)\n",
        "print(f'O valor a ser pago é de {pagamento:.2f}.')"
      ],
      "metadata": {
        "colab": {
          "base_uri": "https://localhost:8080/"
        },
        "id": "o5KJpsf4f3qa",
        "outputId": "f066a863-1bf7-4c4d-acfb-31d664971b15"
      },
      "execution_count": null,
      "outputs": [
        {
          "output_type": "stream",
          "name": "stdout",
          "text": [
            "Use o código:\n",
            "(1) para brinquedos que usam baterias;\n",
            "(2) para brinquedos que usam pilhas;\n",
            "(3) para brinquedos com baterias recarregáveis.\n",
            "Digite o código desejado: 6\n",
            "Digite o valor do seu pedido: 250\n",
            "ERRO! Código inválido - Digite 1, 2 ou 3.\n",
            "\n",
            "*** PAGAMENTO ***\n",
            "O pedido efetuado não obteve desconto.\n",
            "O valor a ser pago é de 250.00.\n"
          ]
        }
      ]
    },
    {
      "cell_type": "markdown",
      "source": [
        "#**Exercício 05**\n",
        "\n",
        "\n",
        "A concessionária *Paschim Gujarat Vij Company Ltd.* calcula o valor da conta de eletricidade segundo o esquema abaixo:\n",
        "\n",
        "* 0-100 unidades consumidas: $\\$\\,0,50$ por unidade;\n",
        "* 101-200 unidades consumidas: $\\$\\,50$ mais $\\$\\,1$ por unidade acima de 100 unidades;\n",
        "* 201-300 unidades consumidas: $\\$\\,150$ mais $\\$\\,1,50$ por unidade acima de 200 unidades;\n",
        "* Mais de 300 unidades consumidas: $\\$\\,300$ mais $\\$\\,2$ por unidade acima de 300 unidades.\n",
        "\n",
        "Escreva um programa Python que leia o valor passado do medidor (penúltima medição, 30 dias atrás) e o valor atual (última medição, hoje) e, a partir dessas informações, calcule o número de unidades consumidas e o valor da conta de eletricidade do mês."
      ],
      "metadata": {
        "id": "cnPtnkZADwi_"
      }
    },
    {
      "cell_type": "code",
      "source": [
        "# Exercício 05\n",
        "# Entrada de dados\n",
        "antigo = int(input('Medição de 30 dias atrás (kWh): '))\n",
        "atual = int(input('Medição atual (kWh): '))\n",
        "\n",
        "# kWh consumidas no mês\n",
        "kWh = atual - antigo\n",
        "\n",
        "# Valor da conta de eletricidade\n",
        "if kWh <= 100:\n",
        "  conta = 0.5*kWh\n",
        "elif kWh <= 200:\n",
        "  conta = 50 + 1*(kWh - 100)\n",
        "elif kWh <= 300:\n",
        "  conta = 150 + 1.5*(kWh - 200)\n",
        "else:\n",
        "  conta = 300 + 2*(kWh - 300)\n",
        "\n",
        "# Saída de dados\n",
        "print(f'A conta de eletricidade do mês é de {conta:.2f}, com {kWh} kWh consumidos.')"
      ],
      "metadata": {
        "id": "dSNjB9Q0GTnY"
      },
      "execution_count": null,
      "outputs": []
    }
  ]
}